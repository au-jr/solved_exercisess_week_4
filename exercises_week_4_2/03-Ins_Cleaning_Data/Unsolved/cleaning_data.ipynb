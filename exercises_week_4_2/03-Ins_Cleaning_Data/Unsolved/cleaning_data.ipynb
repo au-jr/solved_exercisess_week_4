{
 "cells": [
  {
   "cell_type": "code",
   "execution_count": 2,
   "metadata": {
    "tags": []
   },
   "outputs": [],
   "source": [
    "# Dependencies\n",
    "from pathlib import Path\n",
    "import pandas as pd"
   ]
  },
  {
   "cell_type": "code",
   "execution_count": 3,
   "metadata": {
    "inputHidden": false,
    "outputHidden": false,
    "tags": []
   },
   "outputs": [],
   "source": [
    "# Create a path variable to the data.\n",
    "path = Path('Resources/tas_employment.csv')"
   ]
  },
  {
   "cell_type": "code",
   "execution_count": 4,
   "metadata": {
    "inputHidden": false,
    "outputHidden": false,
    "tags": []
   },
   "outputs": [],
   "source": [
    "# The correct encoding must be used to read the CSV in pandas\n",
    "df = pd.read_csv(path)"
   ]
  },
  {
   "cell_type": "code",
   "execution_count": 5,
   "metadata": {
    "inputHidden": false,
    "outputHidden": false,
    "tags": []
   },
   "outputs": [
    {
     "data": {
      "text/html": [
       "<div>\n",
       "<style scoped>\n",
       "    .dataframe tbody tr th:only-of-type {\n",
       "        vertical-align: middle;\n",
       "    }\n",
       "\n",
       "    .dataframe tbody tr th {\n",
       "        vertical-align: top;\n",
       "    }\n",
       "\n",
       "    .dataframe thead th {\n",
       "        text-align: right;\n",
       "    }\n",
       "</style>\n",
       "<table border=\"1\" class=\"dataframe\">\n",
       "  <thead>\n",
       "    <tr style=\"text-align: right;\">\n",
       "      <th></th>\n",
       "      <th>NAME</th>\n",
       "      <th>AGE</th>\n",
       "      <th>OCCUP</th>\n",
       "      <th>YEAR</th>\n",
       "      <th>NAME_RANK</th>\n",
       "      <th>EMPLOY_DATE</th>\n",
       "      <th>EMPLOYER</th>\n",
       "      <th>OCCUP_INDEX</th>\n",
       "      <th>RECORD_URL</th>\n",
       "    </tr>\n",
       "  </thead>\n",
       "  <tbody>\n",
       "    <tr>\n",
       "      <th>0</th>\n",
       "      <td>Crowther, Edward Lodewyk</td>\n",
       "      <td>33.0</td>\n",
       "      <td>Doctor of Medicine</td>\n",
       "      <td>1878</td>\n",
       "      <td>Commanding Officer</td>\n",
       "      <td>23 Apr 1878</td>\n",
       "      <td>Southern Volunteer Artillery</td>\n",
       "      <td>Doctor of Medicine</td>\n",
       "      <td>https://stors.tas.gov.au/NI/1517087</td>\n",
       "    </tr>\n",
       "    <tr>\n",
       "      <th>1</th>\n",
       "      <td>Crowther, William L</td>\n",
       "      <td>63.0</td>\n",
       "      <td>Doctor of Medicine</td>\n",
       "      <td>1878</td>\n",
       "      <td>Surgeon Major</td>\n",
       "      <td>10 May 1878</td>\n",
       "      <td>Southern Volunteer Artillery</td>\n",
       "      <td>Doctor of Medicine</td>\n",
       "      <td>https://stors.tas.gov.au/NI/1517088</td>\n",
       "    </tr>\n",
       "    <tr>\n",
       "      <th>2</th>\n",
       "      <td>Roblin, Thomas</td>\n",
       "      <td>50.0</td>\n",
       "      <td>Curator of Museum</td>\n",
       "      <td>1878</td>\n",
       "      <td>Lieutenant</td>\n",
       "      <td>23 Apr 1878</td>\n",
       "      <td>Southern Volunteer Artillery</td>\n",
       "      <td>Curator of Museum</td>\n",
       "      <td>https://stors.tas.gov.au/NI/1517089</td>\n",
       "    </tr>\n",
       "    <tr>\n",
       "      <th>3</th>\n",
       "      <td>Lewis, D</td>\n",
       "      <td>NaN</td>\n",
       "      <td>Merchant</td>\n",
       "      <td>1878</td>\n",
       "      <td>Major Paymaster</td>\n",
       "      <td>23 Apr 1878</td>\n",
       "      <td>Southern Volunteer Artillery</td>\n",
       "      <td>Merchant</td>\n",
       "      <td>https://stors.tas.gov.au/NI/1517090</td>\n",
       "    </tr>\n",
       "    <tr>\n",
       "      <th>4</th>\n",
       "      <td>Green, William Patrick</td>\n",
       "      <td>NaN</td>\n",
       "      <td>Gentleman</td>\n",
       "      <td>1878</td>\n",
       "      <td>Quartermaster Captain</td>\n",
       "      <td>16 Aug 1878</td>\n",
       "      <td>Southern Volunteer Artillery</td>\n",
       "      <td>Gentleman</td>\n",
       "      <td>https://stors.tas.gov.au/NI/1517091</td>\n",
       "    </tr>\n",
       "  </tbody>\n",
       "</table>\n",
       "</div>"
      ],
      "text/plain": [
       "                       NAME   AGE               OCCUP  YEAR  \\\n",
       "0  Crowther, Edward Lodewyk  33.0  Doctor of Medicine  1878   \n",
       "1       Crowther, William L  63.0  Doctor of Medicine  1878   \n",
       "2            Roblin, Thomas  50.0   Curator of Museum  1878   \n",
       "3                  Lewis, D   NaN            Merchant  1878   \n",
       "4    Green, William Patrick   NaN           Gentleman  1878   \n",
       "\n",
       "               NAME_RANK  EMPLOY_DATE                      EMPLOYER  \\\n",
       "0     Commanding Officer  23 Apr 1878  Southern Volunteer Artillery   \n",
       "1          Surgeon Major  10 May 1878  Southern Volunteer Artillery   \n",
       "2             Lieutenant  23 Apr 1878  Southern Volunteer Artillery   \n",
       "3        Major Paymaster  23 Apr 1878  Southern Volunteer Artillery   \n",
       "4  Quartermaster Captain  16 Aug 1878  Southern Volunteer Artillery   \n",
       "\n",
       "          OCCUP_INDEX                           RECORD_URL  \n",
       "0  Doctor of Medicine  https://stors.tas.gov.au/NI/1517087  \n",
       "1  Doctor of Medicine  https://stors.tas.gov.au/NI/1517088  \n",
       "2   Curator of Museum  https://stors.tas.gov.au/NI/1517089  \n",
       "3            Merchant  https://stors.tas.gov.au/NI/1517090  \n",
       "4           Gentleman  https://stors.tas.gov.au/NI/1517091  "
      ]
     },
     "execution_count": 5,
     "metadata": {},
     "output_type": "execute_result"
    }
   ],
   "source": [
    "# Preview of the DataFrame\n",
    "# Note that OCCUP_INDEX appears to be duplicating OCCUP\n",
    "df.head()"
   ]
  },
  {
   "cell_type": "code",
   "execution_count": 6,
   "metadata": {
    "inputHidden": false,
    "outputHidden": false,
    "tags": []
   },
   "outputs": [
    {
     "data": {
      "text/html": [
       "<div>\n",
       "<style scoped>\n",
       "    .dataframe tbody tr th:only-of-type {\n",
       "        vertical-align: middle;\n",
       "    }\n",
       "\n",
       "    .dataframe tbody tr th {\n",
       "        vertical-align: top;\n",
       "    }\n",
       "\n",
       "    .dataframe thead th {\n",
       "        text-align: right;\n",
       "    }\n",
       "</style>\n",
       "<table border=\"1\" class=\"dataframe\">\n",
       "  <thead>\n",
       "    <tr style=\"text-align: right;\">\n",
       "      <th></th>\n",
       "      <th>NAME</th>\n",
       "      <th>AGE</th>\n",
       "      <th>OCCUP</th>\n",
       "      <th>YEAR</th>\n",
       "      <th>NAME_RANK</th>\n",
       "      <th>EMPLOY_DATE</th>\n",
       "      <th>EMPLOYER</th>\n",
       "      <th>RECORD_URL</th>\n",
       "    </tr>\n",
       "  </thead>\n",
       "  <tbody>\n",
       "    <tr>\n",
       "      <th>0</th>\n",
       "      <td>Crowther, Edward Lodewyk</td>\n",
       "      <td>33.0</td>\n",
       "      <td>Doctor of Medicine</td>\n",
       "      <td>1878</td>\n",
       "      <td>Commanding Officer</td>\n",
       "      <td>23 Apr 1878</td>\n",
       "      <td>Southern Volunteer Artillery</td>\n",
       "      <td>https://stors.tas.gov.au/NI/1517087</td>\n",
       "    </tr>\n",
       "    <tr>\n",
       "      <th>1</th>\n",
       "      <td>Crowther, William L</td>\n",
       "      <td>63.0</td>\n",
       "      <td>Doctor of Medicine</td>\n",
       "      <td>1878</td>\n",
       "      <td>Surgeon Major</td>\n",
       "      <td>10 May 1878</td>\n",
       "      <td>Southern Volunteer Artillery</td>\n",
       "      <td>https://stors.tas.gov.au/NI/1517088</td>\n",
       "    </tr>\n",
       "    <tr>\n",
       "      <th>2</th>\n",
       "      <td>Roblin, Thomas</td>\n",
       "      <td>50.0</td>\n",
       "      <td>Curator of Museum</td>\n",
       "      <td>1878</td>\n",
       "      <td>Lieutenant</td>\n",
       "      <td>23 Apr 1878</td>\n",
       "      <td>Southern Volunteer Artillery</td>\n",
       "      <td>https://stors.tas.gov.au/NI/1517089</td>\n",
       "    </tr>\n",
       "    <tr>\n",
       "      <th>3</th>\n",
       "      <td>Lewis, D</td>\n",
       "      <td>NaN</td>\n",
       "      <td>Merchant</td>\n",
       "      <td>1878</td>\n",
       "      <td>Major Paymaster</td>\n",
       "      <td>23 Apr 1878</td>\n",
       "      <td>Southern Volunteer Artillery</td>\n",
       "      <td>https://stors.tas.gov.au/NI/1517090</td>\n",
       "    </tr>\n",
       "    <tr>\n",
       "      <th>4</th>\n",
       "      <td>Green, William Patrick</td>\n",
       "      <td>NaN</td>\n",
       "      <td>Gentleman</td>\n",
       "      <td>1878</td>\n",
       "      <td>Quartermaster Captain</td>\n",
       "      <td>16 Aug 1878</td>\n",
       "      <td>Southern Volunteer Artillery</td>\n",
       "      <td>https://stors.tas.gov.au/NI/1517091</td>\n",
       "    </tr>\n",
       "  </tbody>\n",
       "</table>\n",
       "</div>"
      ],
      "text/plain": [
       "                       NAME   AGE               OCCUP  YEAR  \\\n",
       "0  Crowther, Edward Lodewyk  33.0  Doctor of Medicine  1878   \n",
       "1       Crowther, William L  63.0  Doctor of Medicine  1878   \n",
       "2            Roblin, Thomas  50.0   Curator of Museum  1878   \n",
       "3                  Lewis, D   NaN            Merchant  1878   \n",
       "4    Green, William Patrick   NaN           Gentleman  1878   \n",
       "\n",
       "               NAME_RANK  EMPLOY_DATE                      EMPLOYER  \\\n",
       "0     Commanding Officer  23 Apr 1878  Southern Volunteer Artillery   \n",
       "1          Surgeon Major  10 May 1878  Southern Volunteer Artillery   \n",
       "2             Lieutenant  23 Apr 1878  Southern Volunteer Artillery   \n",
       "3        Major Paymaster  23 Apr 1878  Southern Volunteer Artillery   \n",
       "4  Quartermaster Captain  16 Aug 1878  Southern Volunteer Artillery   \n",
       "\n",
       "                            RECORD_URL  \n",
       "0  https://stors.tas.gov.au/NI/1517087  \n",
       "1  https://stors.tas.gov.au/NI/1517088  \n",
       "2  https://stors.tas.gov.au/NI/1517089  \n",
       "3  https://stors.tas.gov.au/NI/1517090  \n",
       "4  https://stors.tas.gov.au/NI/1517091  "
      ]
     },
     "execution_count": 6,
     "metadata": {},
     "output_type": "execute_result"
    }
   ],
   "source": [
    "# Delete column we don't want\n",
    "del df['OCCUP_INDEX']\n",
    "df.head()"
   ]
  },
  {
   "cell_type": "code",
   "execution_count": 7,
   "metadata": {
    "inputHidden": false,
    "outputHidden": false,
    "tags": []
   },
   "outputs": [
    {
     "data": {
      "text/plain": [
       "NAME           4325\n",
       "AGE             811\n",
       "OCCUP          3738\n",
       "YEAR           4172\n",
       "NAME_RANK       675\n",
       "EMPLOY_DATE     852\n",
       "EMPLOYER        877\n",
       "RECORD_URL     4325\n",
       "dtype: int64"
      ]
     },
     "execution_count": 7,
     "metadata": {},
     "output_type": "execute_result"
    }
   ],
   "source": [
    "# Identify incomplete rows\n",
    "df.count()"
   ]
  },
  {
   "cell_type": "code",
   "execution_count": 8,
   "metadata": {
    "inputHidden": false,
    "outputHidden": false,
    "tags": []
   },
   "outputs": [],
   "source": [
    "# Drop all rows with missing information\n",
    "df_dropna = df.dropna()"
   ]
  },
  {
   "cell_type": "code",
   "execution_count": 9,
   "metadata": {
    "inputHidden": false,
    "outputHidden": false,
    "tags": []
   },
   "outputs": [
    {
     "data": {
      "text/plain": [
       "NAME           612\n",
       "AGE            612\n",
       "OCCUP          612\n",
       "YEAR           612\n",
       "NAME_RANK      612\n",
       "EMPLOY_DATE    612\n",
       "EMPLOYER       612\n",
       "RECORD_URL     612\n",
       "dtype: int64"
      ]
     },
     "execution_count": 9,
     "metadata": {},
     "output_type": "execute_result"
    }
   ],
   "source": [
    "# Verify dropped rows\n",
    "df_dropna.count()"
   ]
  },
  {
   "cell_type": "code",
   "execution_count": 29,
   "metadata": {
    "inputHidden": false,
    "outputHidden": false,
    "tags": []
   },
   "outputs": [
    {
     "data": {
      "text/plain": [
       "NAME            object\n",
       "AGE            float64\n",
       "OCCUP           object\n",
       "YEAR            object\n",
       "NAME_RANK       object\n",
       "EMPLOY_DATE     object\n",
       "EMPLOYER        object\n",
       "RECORD_URL      object\n",
       "dtype: object"
      ]
     },
     "execution_count": 29,
     "metadata": {},
     "output_type": "execute_result"
    }
   ],
   "source": [
    "# The YEAR column is the wrong data type. It should be an integer.\n",
    "df_dropna.dtypes"
   ]
  },
  {
   "cell_type": "code",
   "execution_count": 30,
   "metadata": {
    "inputHidden": false,
    "outputHidden": false,
    "tags": []
   },
   "outputs": [
    {
     "data": {
      "text/plain": [
       "NAME            object\n",
       "AGE            float64\n",
       "OCCUP           object\n",
       "YEAR             int32\n",
       "NAME_RANK       object\n",
       "EMPLOY_DATE     object\n",
       "EMPLOYER        object\n",
       "RECORD_URL      object\n",
       "dtype: object"
      ]
     },
     "execution_count": 30,
     "metadata": {},
     "output_type": "execute_result"
    }
   ],
   "source": [
    "# Use df.astype() method to convert the datatype of the YEAR column\n",
    "\n",
    "df_cleaned = df_dropna.astype({'YEAR' : int})\n",
    "df_cleaned.dtypes"
   ]
  },
  {
   "cell_type": "code",
   "execution_count": 31,
   "metadata": {
    "inputHidden": false,
    "outputHidden": false,
    "tags": []
   },
   "outputs": [
    {
     "data": {
      "text/plain": [
       "NAME            object\n",
       "AGE            float64\n",
       "OCCUP           object\n",
       "YEAR             int32\n",
       "NAME_RANK       object\n",
       "EMPLOY_DATE     object\n",
       "EMPLOYER        object\n",
       "RECORD_URL      object\n",
       "dtype: object"
      ]
     },
     "execution_count": 31,
     "metadata": {},
     "output_type": "execute_result"
    }
   ],
   "source": [
    "# Verify that the YEAR column datatype has been made an integer\n",
    "df_cleaned.dtypes"
   ]
  },
  {
   "cell_type": "code",
   "execution_count": 32,
   "metadata": {
    "inputHidden": false,
    "outputHidden": false,
    "tags": []
   },
   "outputs": [
    {
     "data": {
      "text/plain": [
       "count       612\n",
       "unique      169\n",
       "top       Clerk\n",
       "freq         85\n",
       "Name: OCCUP, dtype: object"
      ]
     },
     "execution_count": 32,
     "metadata": {},
     "output_type": "execute_result"
    }
   ],
   "source": [
    "df_cleaned['OCCUP'].describe()"
   ]
  },
  {
   "cell_type": "code",
   "execution_count": 33,
   "metadata": {
    "inputHidden": false,
    "outputHidden": false,
    "tags": []
   },
   "outputs": [
    {
     "data": {
      "text/plain": [
       "OCCUP\n",
       "Clerk                           85\n",
       "Labourer                        41\n",
       "Bootmaker                       40\n",
       "Carpenter                       30\n",
       "Blacksmith                      23\n",
       "                                ..\n",
       "Barrister at Law                 1\n",
       "Coach Trimmer                    1\n",
       "Fitter and turner on railway     1\n",
       "Brewer                           1\n",
       "Engine Driver                    1\n",
       "Name: count, Length: 169, dtype: int64"
      ]
     },
     "execution_count": 33,
     "metadata": {},
     "output_type": "execute_result"
    }
   ],
   "source": [
    "# Display an overview of the OCCUP column\n",
    "df_cleaned['OCCUP'].value_counts()"
   ]
  },
  {
   "cell_type": "code",
   "execution_count": 41,
   "metadata": {
    "inputHidden": false,
    "outputHidden": false,
    "tags": []
   },
   "outputs": [
    {
     "data": {
      "text/plain": [
       "0       Doctor of Medicine\n",
       "1       Doctor of Medicine\n",
       "2        Curator of Museum\n",
       "6                    Clerk\n",
       "7      Licensed Victualler\n",
       "              ...         \n",
       "708               Engineer\n",
       "709             Blacksmith\n",
       "710             Stonemason\n",
       "711          Engine Driver\n",
       "712      Drapers Assistant\n",
       "Name: OCCUP, Length: 612, dtype: object"
      ]
     },
     "execution_count": 41,
     "metadata": {},
     "output_type": "execute_result"
    }
   ],
   "source": [
    "# Clean up OCCUP category. Replace 'Laborer' with 'Labourer',\n",
    "# 'Stone Mason' with 'Stonemason', 'Boot Maker' with 'Bootmaker'\n",
    "# 'Coachtrimmer' with 'Coach Trimmer', and 'None' with 'None at present'\n",
    "\n",
    "df_cleaned['OCCUP'].replace({'Laborer':'Labourer',\n",
    "                        'Stone Mason':'Stonemason'})\n",
    "\n",
    "df_cleaned['OCCUP'].replace({'Boot Maker' : 'Bootmaker'})\n",
    "\n",
    "\n",
    "df_cleaned['OCCUP'].replace({'Coachtrimmer' : 'Coach Trimmer',\n",
    "                           'None' : 'None at present'})"
   ]
  },
  {
   "cell_type": "code",
   "execution_count": 42,
   "metadata": {
    "inputHidden": false,
    "outputHidden": false,
    "tags": []
   },
   "outputs": [
    {
     "data": {
      "text/plain": [
       "OCCUP\n",
       "Clerk                           85\n",
       "Labourer                        41\n",
       "Bootmaker                       40\n",
       "Carpenter                       30\n",
       "Blacksmith                      23\n",
       "                                ..\n",
       "Barrister at Law                 1\n",
       "Coach Trimmer                    1\n",
       "Fitter and turner on railway     1\n",
       "Brewer                           1\n",
       "Engine Driver                    1\n",
       "Name: count, Length: 169, dtype: int64"
      ]
     },
     "execution_count": 42,
     "metadata": {},
     "output_type": "execute_result"
    }
   ],
   "source": [
    "# Verify clean-up.\n",
    "df_cleaned['OCCUP'].value_counts()"
   ]
  },
  {
   "cell_type": "code",
   "execution_count": 37,
   "metadata": {
    "inputHidden": false,
    "outputHidden": false,
    "tags": []
   },
   "outputs": [
    {
     "data": {
      "text/html": [
       "<div>\n",
       "<style scoped>\n",
       "    .dataframe tbody tr th:only-of-type {\n",
       "        vertical-align: middle;\n",
       "    }\n",
       "\n",
       "    .dataframe tbody tr th {\n",
       "        vertical-align: top;\n",
       "    }\n",
       "\n",
       "    .dataframe thead th {\n",
       "        text-align: right;\n",
       "    }\n",
       "</style>\n",
       "<table border=\"1\" class=\"dataframe\">\n",
       "  <thead>\n",
       "    <tr style=\"text-align: right;\">\n",
       "      <th></th>\n",
       "      <th>AGE</th>\n",
       "      <th>YEAR</th>\n",
       "    </tr>\n",
       "  </thead>\n",
       "  <tbody>\n",
       "    <tr>\n",
       "      <th>count</th>\n",
       "      <td>612.000000</td>\n",
       "      <td>612.000000</td>\n",
       "    </tr>\n",
       "    <tr>\n",
       "      <th>mean</th>\n",
       "      <td>22.166667</td>\n",
       "      <td>1884.668301</td>\n",
       "    </tr>\n",
       "    <tr>\n",
       "      <th>std</th>\n",
       "      <td>6.175157</td>\n",
       "      <td>6.232493</td>\n",
       "    </tr>\n",
       "    <tr>\n",
       "      <th>min</th>\n",
       "      <td>16.000000</td>\n",
       "      <td>1843.000000</td>\n",
       "    </tr>\n",
       "    <tr>\n",
       "      <th>25%</th>\n",
       "      <td>18.000000</td>\n",
       "      <td>1879.000000</td>\n",
       "    </tr>\n",
       "    <tr>\n",
       "      <th>50%</th>\n",
       "      <td>20.000000</td>\n",
       "      <td>1883.000000</td>\n",
       "    </tr>\n",
       "    <tr>\n",
       "      <th>75%</th>\n",
       "      <td>24.000000</td>\n",
       "      <td>1889.000000</td>\n",
       "    </tr>\n",
       "    <tr>\n",
       "      <th>max</th>\n",
       "      <td>71.000000</td>\n",
       "      <td>1899.000000</td>\n",
       "    </tr>\n",
       "  </tbody>\n",
       "</table>\n",
       "</div>"
      ],
      "text/plain": [
       "              AGE         YEAR\n",
       "count  612.000000   612.000000\n",
       "mean    22.166667  1884.668301\n",
       "std      6.175157     6.232493\n",
       "min     16.000000  1843.000000\n",
       "25%     18.000000  1879.000000\n",
       "50%     20.000000  1883.000000\n",
       "75%     24.000000  1889.000000\n",
       "max     71.000000  1899.000000"
      ]
     },
     "execution_count": 37,
     "metadata": {},
     "output_type": "execute_result"
    }
   ],
   "source": [
    "# Display a statistical overview\n",
    "# We can infer the maximum allowable individual contribution from 'max'\n",
    "df_cleaned.describe()"
   ]
  },
  {
   "cell_type": "code",
   "execution_count": 38,
   "metadata": {
    "tags": []
   },
   "outputs": [],
   "source": [
    "# Save the clean DataFrame to a CSV file without the index.\n",
    "df_cleaned.to_csv('test_csv.csv', index =False)"
   ]
  },
  {
   "cell_type": "code",
   "execution_count": null,
   "metadata": {},
   "outputs": [],
   "source": []
  }
 ],
 "metadata": {
  "anaconda-cloud": {},
  "kernel_info": {
   "name": "python3"
  },
  "kernelspec": {
   "display_name": "Python 3 (ipykernel)",
   "language": "python",
   "name": "python3"
  },
  "language_info": {
   "codemirror_mode": {
    "name": "ipython",
    "version": 3
   },
   "file_extension": ".py",
   "mimetype": "text/x-python",
   "name": "python",
   "nbconvert_exporter": "python",
   "pygments_lexer": "ipython3",
   "version": "3.11.5"
  },
  "nteract": {
   "version": "0.2.0"
  }
 },
 "nbformat": 4,
 "nbformat_minor": 4
}
