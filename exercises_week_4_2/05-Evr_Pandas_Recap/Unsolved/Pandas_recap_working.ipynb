{
 "cells": [
  {
   "cell_type": "code",
   "execution_count": 1,
   "metadata": {
    "tags": []
   },
   "outputs": [],
   "source": [
    "# Import the Pandas library\n",
    "from pathlib import Path\n",
    "import pandas as pd"
   ]
  },
  {
   "cell_type": "code",
   "execution_count": 2,
   "metadata": {
    "tags": []
   },
   "outputs": [
    {
     "data": {
      "text/html": [
       "<div>\n",
       "<style scoped>\n",
       "    .dataframe tbody tr th:only-of-type {\n",
       "        vertical-align: middle;\n",
       "    }\n",
       "\n",
       "    .dataframe tbody tr th {\n",
       "        vertical-align: top;\n",
       "    }\n",
       "\n",
       "    .dataframe thead th {\n",
       "        text-align: right;\n",
       "    }\n",
       "</style>\n",
       "<table border=\"1\" class=\"dataframe\">\n",
       "  <thead>\n",
       "    <tr style=\"text-align: right;\">\n",
       "      <th></th>\n",
       "      <th>X</th>\n",
       "      <th>Y</th>\n",
       "      <th>OBJECTID</th>\n",
       "      <th>ROAD</th>\n",
       "      <th>ROAD_NAME</th>\n",
       "      <th>COMMON_USAGE_NAME</th>\n",
       "      <th>START_SLK</th>\n",
       "      <th>END_SLK</th>\n",
       "      <th>CWY</th>\n",
       "      <th>START_TRUE_DIST</th>\n",
       "      <th>...</th>\n",
       "      <th>CONSTRUCTED_SHELTER</th>\n",
       "      <th>NATURAL_SHADE</th>\n",
       "      <th>LIGHTING_PRESENT</th>\n",
       "      <th>NUMBER_OF_BINS</th>\n",
       "      <th>NUMBER_OF_TOILETS</th>\n",
       "      <th>ACCESSIBLE_TOILETS</th>\n",
       "      <th>EFFLUENT_DUMP_SITE</th>\n",
       "      <th>NUMBER_OF_TABLES</th>\n",
       "      <th>ACCESSIBLE_TABLES</th>\n",
       "      <th>ROUTE_NE_ID</th>\n",
       "    </tr>\n",
       "  </thead>\n",
       "  <tbody>\n",
       "    <tr>\n",
       "      <th>0</th>\n",
       "      <td>119.797373</td>\n",
       "      <td>-23.454710</td>\n",
       "      <td>125858</td>\n",
       "      <td>H006</td>\n",
       "      <td>Great Northern Hwy</td>\n",
       "      <td>Great Northern Hwy</td>\n",
       "      <td>1151.37</td>\n",
       "      <td>1151.37</td>\n",
       "      <td>Single</td>\n",
       "      <td>1145.18</td>\n",
       "      <td>...</td>\n",
       "      <td>Yes</td>\n",
       "      <td>Yes</td>\n",
       "      <td>Powered Site</td>\n",
       "      <td>1.0</td>\n",
       "      <td>1.0</td>\n",
       "      <td>Yes</td>\n",
       "      <td>No</td>\n",
       "      <td>'1'</td>\n",
       "      <td>Yes</td>\n",
       "      <td>247653</td>\n",
       "    </tr>\n",
       "    <tr>\n",
       "      <th>1</th>\n",
       "      <td>114.720162</td>\n",
       "      <td>-27.503224</td>\n",
       "      <td>125859</td>\n",
       "      <td>H007</td>\n",
       "      <td>North West Coastal Hwy</td>\n",
       "      <td>North West Coastal Hwy</td>\n",
       "      <td>151.04</td>\n",
       "      <td>151.04</td>\n",
       "      <td>Single</td>\n",
       "      <td>151.01</td>\n",
       "      <td>...</td>\n",
       "      <td>No</td>\n",
       "      <td>No</td>\n",
       "      <td>NaN</td>\n",
       "      <td>3.0</td>\n",
       "      <td>0.0</td>\n",
       "      <td>No</td>\n",
       "      <td>No</td>\n",
       "      <td>0</td>\n",
       "      <td>No</td>\n",
       "      <td>247803</td>\n",
       "    </tr>\n",
       "    <tr>\n",
       "      <th>2</th>\n",
       "      <td>115.257054</td>\n",
       "      <td>-29.848984</td>\n",
       "      <td>125860</td>\n",
       "      <td>H004</td>\n",
       "      <td>Brand Hwy</td>\n",
       "      <td>Brand Hwy</td>\n",
       "      <td>220.91</td>\n",
       "      <td>220.91</td>\n",
       "      <td>Single</td>\n",
       "      <td>218.20</td>\n",
       "      <td>...</td>\n",
       "      <td>No</td>\n",
       "      <td>Yes</td>\n",
       "      <td>NaN</td>\n",
       "      <td>2.0</td>\n",
       "      <td>0.0</td>\n",
       "      <td>No</td>\n",
       "      <td>No</td>\n",
       "      <td>0</td>\n",
       "      <td>No</td>\n",
       "      <td>247578</td>\n",
       "    </tr>\n",
       "    <tr>\n",
       "      <th>3</th>\n",
       "      <td>120.627016</td>\n",
       "      <td>-33.665446</td>\n",
       "      <td>125861</td>\n",
       "      <td>H008</td>\n",
       "      <td>South Coast Hwy</td>\n",
       "      <td>South Coast Hwy</td>\n",
       "      <td>347.61</td>\n",
       "      <td>347.61</td>\n",
       "      <td>Single</td>\n",
       "      <td>348.24</td>\n",
       "      <td>...</td>\n",
       "      <td>No</td>\n",
       "      <td>No</td>\n",
       "      <td>NaN</td>\n",
       "      <td>2.0</td>\n",
       "      <td>0.0</td>\n",
       "      <td>No</td>\n",
       "      <td>No</td>\n",
       "      <td>1</td>\n",
       "      <td>No</td>\n",
       "      <td>247842</td>\n",
       "    </tr>\n",
       "    <tr>\n",
       "      <th>4</th>\n",
       "      <td>116.217742</td>\n",
       "      <td>-22.660976</td>\n",
       "      <td>125862</td>\n",
       "      <td>M029</td>\n",
       "      <td>Nanutarra Munjina</td>\n",
       "      <td>Nanutarra Munjina Rd</td>\n",
       "      <td>89.11</td>\n",
       "      <td>89.11</td>\n",
       "      <td>Single</td>\n",
       "      <td>89.11</td>\n",
       "      <td>...</td>\n",
       "      <td>No</td>\n",
       "      <td>No</td>\n",
       "      <td>NaN</td>\n",
       "      <td>1.0</td>\n",
       "      <td>1.0</td>\n",
       "      <td>Yes</td>\n",
       "      <td>No</td>\n",
       "      <td>0</td>\n",
       "      <td>No</td>\n",
       "      <td>247800</td>\n",
       "    </tr>\n",
       "  </tbody>\n",
       "</table>\n",
       "<p>5 rows × 37 columns</p>\n",
       "</div>"
      ],
      "text/plain": [
       "            X          Y  OBJECTID  ROAD               ROAD_NAME  \\\n",
       "0  119.797373 -23.454710    125858  H006      Great Northern Hwy   \n",
       "1  114.720162 -27.503224    125859  H007  North West Coastal Hwy   \n",
       "2  115.257054 -29.848984    125860  H004               Brand Hwy   \n",
       "3  120.627016 -33.665446    125861  H008         South Coast Hwy   \n",
       "4  116.217742 -22.660976    125862  M029       Nanutarra Munjina   \n",
       "\n",
       "        COMMON_USAGE_NAME  START_SLK  END_SLK     CWY  START_TRUE_DIST  ...  \\\n",
       "0      Great Northern Hwy    1151.37  1151.37  Single          1145.18  ...   \n",
       "1  North West Coastal Hwy     151.04   151.04  Single           151.01  ...   \n",
       "2               Brand Hwy     220.91   220.91  Single           218.20  ...   \n",
       "3         South Coast Hwy     347.61   347.61  Single           348.24  ...   \n",
       "4    Nanutarra Munjina Rd      89.11    89.11  Single            89.11  ...   \n",
       "\n",
       "   CONSTRUCTED_SHELTER NATURAL_SHADE LIGHTING_PRESENT  NUMBER_OF_BINS  \\\n",
       "0                  Yes           Yes     Powered Site             1.0   \n",
       "1                   No            No              NaN             3.0   \n",
       "2                   No           Yes              NaN             2.0   \n",
       "3                   No            No              NaN             2.0   \n",
       "4                   No            No              NaN             1.0   \n",
       "\n",
       "  NUMBER_OF_TOILETS  ACCESSIBLE_TOILETS EFFLUENT_DUMP_SITE NUMBER_OF_TABLES  \\\n",
       "0               1.0                 Yes                 No              '1'   \n",
       "1               0.0                  No                 No                0   \n",
       "2               0.0                  No                 No                0   \n",
       "3               0.0                  No                 No                1   \n",
       "4               1.0                 Yes                 No                0   \n",
       "\n",
       "  ACCESSIBLE_TABLES ROUTE_NE_ID  \n",
       "0               Yes      247653  \n",
       "1                No      247803  \n",
       "2                No      247578  \n",
       "3                No      247842  \n",
       "4                No      247800  \n",
       "\n",
       "[5 rows x 37 columns]"
      ]
     },
     "execution_count": 2,
     "metadata": {},
     "output_type": "execute_result"
    }
   ],
   "source": [
    "# Create a reference the CSV file desired\n",
    "csv_path = Path('Resources/Road_Stopping_Places.csv')\n",
    "\n",
    "# Read the CSV into a Pandas DataFrame\n",
    "\n",
    "df = pd.read_csv(csv_path)\n",
    "\n",
    "# Print the first five rows of data to the screen\n",
    "df.head()"
   ]
  },
  {
   "cell_type": "code",
   "execution_count": 3,
   "metadata": {
    "tags": []
   },
   "outputs": [
    {
     "data": {
      "text/plain": [
       "X                      float64\n",
       "Y                      float64\n",
       "OBJECTID                 int64\n",
       "ROAD                    object\n",
       "ROAD_NAME               object\n",
       "COMMON_USAGE_NAME       object\n",
       "START_SLK              float64\n",
       "END_SLK                float64\n",
       "CWY                     object\n",
       "START_TRUE_DIST        float64\n",
       "END_TRUE_DIST          float64\n",
       "NETWORK_TYPE            object\n",
       "XSP                     object\n",
       "RA_NO                    int64\n",
       "RA_NAME                 object\n",
       "LG_NO                    int64\n",
       "LG_NAME                 object\n",
       "REST_AREA_TYPE          object\n",
       "STAY_24_HOUR            object\n",
       "REST_AREA_NAME          object\n",
       "OWNERSHIP               object\n",
       "INFORMATION_BOARD       object\n",
       "SCENIC_LOOKOUT          object\n",
       "COMMEMORATION_WAY       object\n",
       "SURFACE                 object\n",
       "SURFACE_TYPE            object\n",
       "SURFACE_AREA           float64\n",
       "CONSTRUCTED_SHELTER     object\n",
       "NATURAL_SHADE           object\n",
       "LIGHTING_PRESENT        object\n",
       "NUMBER_OF_BINS         float64\n",
       "NUMBER_OF_TOILETS      float64\n",
       "ACCESSIBLE_TOILETS      object\n",
       "EFFLUENT_DUMP_SITE      object\n",
       "NUMBER_OF_TABLES        object\n",
       "ACCESSIBLE_TABLES       object\n",
       "ROUTE_NE_ID              int64\n",
       "dtype: object"
      ]
     },
     "execution_count": 3,
     "metadata": {},
     "output_type": "execute_result"
    }
   ],
   "source": [
    "# Check the data types. \n",
    "df.dtypes"
   ]
  },
  {
   "cell_type": "code",
   "execution_count": 4,
   "metadata": {
    "tags": []
   },
   "outputs": [
    {
     "data": {
      "text/plain": [
       "X                      1679\n",
       "Y                      1679\n",
       "OBJECTID               1679\n",
       "ROAD                   1679\n",
       "ROAD_NAME              1679\n",
       "COMMON_USAGE_NAME      1679\n",
       "START_SLK              1679\n",
       "END_SLK                1679\n",
       "CWY                    1679\n",
       "START_TRUE_DIST        1679\n",
       "END_TRUE_DIST          1679\n",
       "NETWORK_TYPE           1679\n",
       "XSP                    1679\n",
       "RA_NO                  1679\n",
       "RA_NAME                1679\n",
       "LG_NO                  1679\n",
       "LG_NAME                1679\n",
       "REST_AREA_TYPE         1679\n",
       "STAY_24_HOUR           1679\n",
       "REST_AREA_NAME          266\n",
       "OWNERSHIP              1679\n",
       "INFORMATION_BOARD      1679\n",
       "SCENIC_LOOKOUT         1679\n",
       "COMMEMORATION_WAY       133\n",
       "SURFACE                1574\n",
       "SURFACE_TYPE            641\n",
       "SURFACE_AREA            637\n",
       "CONSTRUCTED_SHELTER    1679\n",
       "NATURAL_SHADE          1679\n",
       "LIGHTING_PRESENT         82\n",
       "NUMBER_OF_BINS         1558\n",
       "NUMBER_OF_TOILETS      1549\n",
       "ACCESSIBLE_TOILETS     1679\n",
       "EFFLUENT_DUMP_SITE     1679\n",
       "NUMBER_OF_TABLES       1553\n",
       "ACCESSIBLE_TABLES      1679\n",
       "ROUTE_NE_ID            1679\n",
       "dtype: int64"
      ]
     },
     "execution_count": 4,
     "metadata": {},
     "output_type": "execute_result"
    }
   ],
   "source": [
    "# Check the names of all the columns and see if there are any rows with missing data\n",
    "df.count()"
   ]
  },
  {
   "cell_type": "code",
   "execution_count": 5,
   "metadata": {
    "tags": []
   },
   "outputs": [
    {
     "data": {
      "text/html": [
       "<div>\n",
       "<style scoped>\n",
       "    .dataframe tbody tr th:only-of-type {\n",
       "        vertical-align: middle;\n",
       "    }\n",
       "\n",
       "    .dataframe tbody tr th {\n",
       "        vertical-align: top;\n",
       "    }\n",
       "\n",
       "    .dataframe thead th {\n",
       "        text-align: right;\n",
       "    }\n",
       "</style>\n",
       "<table border=\"1\" class=\"dataframe\">\n",
       "  <thead>\n",
       "    <tr style=\"text-align: right;\">\n",
       "      <th></th>\n",
       "      <th>LONGITUDE</th>\n",
       "      <th>LATITUDE</th>\n",
       "      <th>OBJECTID</th>\n",
       "      <th>ROAD</th>\n",
       "      <th>ROAD_NAME</th>\n",
       "      <th>COMMON_USAGE_NAME</th>\n",
       "      <th>START_SLK</th>\n",
       "      <th>END_SLK</th>\n",
       "      <th>CWY</th>\n",
       "      <th>START_TRUE_DIST</th>\n",
       "      <th>...</th>\n",
       "      <th>CONSTRUCTED_SHELTER</th>\n",
       "      <th>NATURAL_SHADE</th>\n",
       "      <th>LIGHTING_PRESENT</th>\n",
       "      <th>NUMBER_OF_BINS</th>\n",
       "      <th>NUMBER_OF_TOILETS</th>\n",
       "      <th>ACCESSIBLE_TOILETS</th>\n",
       "      <th>EFFLUENT_DUMP_SITE</th>\n",
       "      <th>NUMBER_OF_TABLES</th>\n",
       "      <th>ACCESSIBLE_TABLES</th>\n",
       "      <th>ROUTE_NE_ID</th>\n",
       "    </tr>\n",
       "  </thead>\n",
       "  <tbody>\n",
       "    <tr>\n",
       "      <th>0</th>\n",
       "      <td>119.797373</td>\n",
       "      <td>-23.454710</td>\n",
       "      <td>125858</td>\n",
       "      <td>H006</td>\n",
       "      <td>Great Northern Hwy</td>\n",
       "      <td>Great Northern Hwy</td>\n",
       "      <td>1151.37</td>\n",
       "      <td>1151.37</td>\n",
       "      <td>Single</td>\n",
       "      <td>1145.18</td>\n",
       "      <td>...</td>\n",
       "      <td>Yes</td>\n",
       "      <td>Yes</td>\n",
       "      <td>Powered Site</td>\n",
       "      <td>1.0</td>\n",
       "      <td>1.0</td>\n",
       "      <td>Yes</td>\n",
       "      <td>No</td>\n",
       "      <td>'1'</td>\n",
       "      <td>Yes</td>\n",
       "      <td>247653</td>\n",
       "    </tr>\n",
       "    <tr>\n",
       "      <th>1</th>\n",
       "      <td>114.720162</td>\n",
       "      <td>-27.503224</td>\n",
       "      <td>125859</td>\n",
       "      <td>H007</td>\n",
       "      <td>North West Coastal Hwy</td>\n",
       "      <td>North West Coastal Hwy</td>\n",
       "      <td>151.04</td>\n",
       "      <td>151.04</td>\n",
       "      <td>Single</td>\n",
       "      <td>151.01</td>\n",
       "      <td>...</td>\n",
       "      <td>No</td>\n",
       "      <td>No</td>\n",
       "      <td>NaN</td>\n",
       "      <td>3.0</td>\n",
       "      <td>0.0</td>\n",
       "      <td>No</td>\n",
       "      <td>No</td>\n",
       "      <td>0</td>\n",
       "      <td>No</td>\n",
       "      <td>247803</td>\n",
       "    </tr>\n",
       "  </tbody>\n",
       "</table>\n",
       "<p>2 rows × 37 columns</p>\n",
       "</div>"
      ],
      "text/plain": [
       "    LONGITUDE   LATITUDE  OBJECTID  ROAD               ROAD_NAME  \\\n",
       "0  119.797373 -23.454710    125858  H006      Great Northern Hwy   \n",
       "1  114.720162 -27.503224    125859  H007  North West Coastal Hwy   \n",
       "\n",
       "        COMMON_USAGE_NAME  START_SLK  END_SLK     CWY  START_TRUE_DIST  ...  \\\n",
       "0      Great Northern Hwy    1151.37  1151.37  Single          1145.18  ...   \n",
       "1  North West Coastal Hwy     151.04   151.04  Single           151.01  ...   \n",
       "\n",
       "   CONSTRUCTED_SHELTER NATURAL_SHADE LIGHTING_PRESENT  NUMBER_OF_BINS  \\\n",
       "0                  Yes           Yes     Powered Site             1.0   \n",
       "1                   No            No              NaN             3.0   \n",
       "\n",
       "  NUMBER_OF_TOILETS  ACCESSIBLE_TOILETS EFFLUENT_DUMP_SITE NUMBER_OF_TABLES  \\\n",
       "0               1.0                 Yes                 No              '1'   \n",
       "1               0.0                  No                 No                0   \n",
       "\n",
       "  ACCESSIBLE_TABLES ROUTE_NE_ID  \n",
       "0               Yes      247653  \n",
       "1                No      247803  \n",
       "\n",
       "[2 rows x 37 columns]"
      ]
     },
     "execution_count": 5,
     "metadata": {},
     "output_type": "execute_result"
    }
   ],
   "source": [
    "# Rename columns \"X\" to \"LONGITUDE\", \"Y\" to \"LATITUDE\", \"RA_NAME\" to \"RESPONSIBILITY_AREA\",\n",
    "# and \"LG_NAME\" to \"LOCAL_GOVERNMENT_NAME\"\n",
    "df_updated = df.rename(columns = {'X' : 'LONGITUDE',\n",
    "                                  'Y' : 'LATITUDE',\n",
    "                                  'RA_NAME' : 'RESPONSIBILITY_AREA',\n",
    "                                  'LG_NAME' : 'LOCAL_GOVERNMENT_NAME'})\n",
    "df_updated.head(2)"
   ]
  },
  {
   "cell_type": "code",
   "execution_count": 7,
   "metadata": {
    "tags": []
   },
   "outputs": [
    {
     "data": {
      "text/html": [
       "<div>\n",
       "<style scoped>\n",
       "    .dataframe tbody tr th:only-of-type {\n",
       "        vertical-align: middle;\n",
       "    }\n",
       "\n",
       "    .dataframe tbody tr th {\n",
       "        vertical-align: top;\n",
       "    }\n",
       "\n",
       "    .dataframe thead th {\n",
       "        text-align: right;\n",
       "    }\n",
       "</style>\n",
       "<table border=\"1\" class=\"dataframe\">\n",
       "  <thead>\n",
       "    <tr style=\"text-align: right;\">\n",
       "      <th></th>\n",
       "      <th>COMMON_USAGE_NAME</th>\n",
       "      <th>RESPONSIBILITY_AREA</th>\n",
       "      <th>LOCAL_GOVERNMENT_NAME</th>\n",
       "      <th>REST_AREA_TYPE</th>\n",
       "      <th>STAY_24_HOUR</th>\n",
       "      <th>OWNERSHIP</th>\n",
       "      <th>SURFACE</th>\n",
       "      <th>SURFACE_TYPE</th>\n",
       "      <th>CONSTRUCTED_SHELTER</th>\n",
       "      <th>NATURAL_SHADE</th>\n",
       "      <th>NUMBER_OF_BINS</th>\n",
       "      <th>NUMBER_OF_TOILETS</th>\n",
       "      <th>ACCESSIBLE_TOILETS</th>\n",
       "      <th>NUMBER_OF_TABLES</th>\n",
       "      <th>ACCESSIBLE_TABLES</th>\n",
       "      <th>LATITUDE</th>\n",
       "      <th>LONGITUDE</th>\n",
       "    </tr>\n",
       "  </thead>\n",
       "  <tbody>\n",
       "    <tr>\n",
       "      <th>0</th>\n",
       "      <td>Great Northern Hwy</td>\n",
       "      <td>Pilbara</td>\n",
       "      <td>Meekatharra</td>\n",
       "      <td>Roadhouse</td>\n",
       "      <td>Yes</td>\n",
       "      <td>Other</td>\n",
       "      <td>Surfaced</td>\n",
       "      <td>NaN</td>\n",
       "      <td>Yes</td>\n",
       "      <td>Yes</td>\n",
       "      <td>1.0</td>\n",
       "      <td>1.0</td>\n",
       "      <td>Yes</td>\n",
       "      <td>'1'</td>\n",
       "      <td>Yes</td>\n",
       "      <td>-23.454710</td>\n",
       "      <td>119.797373</td>\n",
       "    </tr>\n",
       "    <tr>\n",
       "      <th>1</th>\n",
       "      <td>North West Coastal Hwy</td>\n",
       "      <td>Mid West-Gascoyne</td>\n",
       "      <td>Northampton</td>\n",
       "      <td>Minor Rest Area</td>\n",
       "      <td>No</td>\n",
       "      <td>Main Roads</td>\n",
       "      <td>Unsurfaced</td>\n",
       "      <td>NaN</td>\n",
       "      <td>No</td>\n",
       "      <td>No</td>\n",
       "      <td>3.0</td>\n",
       "      <td>0.0</td>\n",
       "      <td>No</td>\n",
       "      <td>0</td>\n",
       "      <td>No</td>\n",
       "      <td>-27.503224</td>\n",
       "      <td>114.720162</td>\n",
       "    </tr>\n",
       "  </tbody>\n",
       "</table>\n",
       "</div>"
      ],
      "text/plain": [
       "        COMMON_USAGE_NAME RESPONSIBILITY_AREA LOCAL_GOVERNMENT_NAME  \\\n",
       "0      Great Northern Hwy             Pilbara           Meekatharra   \n",
       "1  North West Coastal Hwy   Mid West-Gascoyne           Northampton   \n",
       "\n",
       "    REST_AREA_TYPE STAY_24_HOUR   OWNERSHIP     SURFACE SURFACE_TYPE  \\\n",
       "0        Roadhouse          Yes       Other    Surfaced          NaN   \n",
       "1  Minor Rest Area           No  Main Roads  Unsurfaced          NaN   \n",
       "\n",
       "  CONSTRUCTED_SHELTER NATURAL_SHADE  NUMBER_OF_BINS  NUMBER_OF_TOILETS  \\\n",
       "0                 Yes           Yes             1.0                1.0   \n",
       "1                  No            No             3.0                0.0   \n",
       "\n",
       "  ACCESSIBLE_TOILETS NUMBER_OF_TABLES ACCESSIBLE_TABLES   LATITUDE   LONGITUDE  \n",
       "0                Yes              '1'               Yes -23.454710  119.797373  \n",
       "1                 No                0                No -27.503224  114.720162  "
      ]
     },
     "execution_count": 7,
     "metadata": {},
     "output_type": "execute_result"
    }
   ],
   "source": [
    "# Reorder and reduce to columns that will help us identify inaccessibly concerns and make improvements: \n",
    "# COMMON_USAGE_NAME, RESPONSIBILITY_AREA, LOCAL_GOVERNMENT_NAME,\n",
    "# REST_AREA_TYPE, STAY_24_HOUR, OWNERSHIP, SURFACE, SURFACE_TYPE,\n",
    "# CONSTRUCTED_SHELTER, NATURAL_SHADE, NUMBER_OF_BINS, NUMBER_OF_TOILETS, \n",
    "# ACCESSIBLE_TOILETS, NUMBER_OF_TABLES, ACCESSIBLE_TABLES, LATITUDE, LONGITUDE\n",
    "df_reduced = df_updated[['COMMON_USAGE_NAME', 'RESPONSIBILITY_AREA', 'LOCAL_GOVERNMENT_NAME',\n",
    "                         'REST_AREA_TYPE', 'STAY_24_HOUR', 'OWNERSHIP', \n",
    "                         'SURFACE', 'SURFACE_TYPE', 'CONSTRUCTED_SHELTER', \n",
    "                          'NATURAL_SHADE',  'NUMBER_OF_BINS',  'NUMBER_OF_TOILETS',\n",
    "                          'ACCESSIBLE_TOILETS',  'NUMBER_OF_TABLES',  'ACCESSIBLE_TABLES', \n",
    "                          'LATITUDE',  'LONGITUDE']]\n",
    "df_reduced.head(2)"
   ]
  },
  {
   "cell_type": "code",
   "execution_count": 9,
   "metadata": {
    "tags": []
   },
   "outputs": [
    {
     "data": {
      "text/plain": [
       "COMMON_USAGE_NAME        1679\n",
       "RESPONSIBILITY_AREA      1679\n",
       "LOCAL_GOVERNMENT_NAME    1679\n",
       "REST_AREA_TYPE           1679\n",
       "STAY_24_HOUR             1679\n",
       "OWNERSHIP                1679\n",
       "SURFACE                  1574\n",
       "SURFACE_TYPE              641\n",
       "CONSTRUCTED_SHELTER      1679\n",
       "NATURAL_SHADE            1679\n",
       "NUMBER_OF_BINS           1558\n",
       "NUMBER_OF_TOILETS        1549\n",
       "ACCESSIBLE_TOILETS       1679\n",
       "NUMBER_OF_TABLES         1553\n",
       "ACCESSIBLE_TABLES        1679\n",
       "LATITUDE                 1679\n",
       "LONGITUDE                1679\n",
       "dtype: int64"
      ]
     },
     "execution_count": 9,
     "metadata": {},
     "output_type": "execute_result"
    }
   ],
   "source": [
    "df_reduced.count()"
   ]
  },
  {
   "cell_type": "code",
   "execution_count": null,
   "metadata": {
    "tags": []
   },
   "outputs": [],
   "source": [
    "# Fill NA values for the column \"SURFACE_TYPE\" with \"Unknown\"\n",
    "df_reduced.fillna({'SURFACE_TYPE' : 'Unknown'}, inplace=True)"
   ]
  },
  {
   "cell_type": "code",
   "execution_count": 13,
   "metadata": {
    "tags": []
   },
   "outputs": [
    {
     "data": {
      "text/plain": [
       "COMMON_USAGE_NAME        1679\n",
       "RESPONSIBILITY_AREA      1679\n",
       "LOCAL_GOVERNMENT_NAME    1679\n",
       "REST_AREA_TYPE           1679\n",
       "STAY_24_HOUR             1679\n",
       "OWNERSHIP                1679\n",
       "SURFACE                  1574\n",
       "SURFACE_TYPE             1679\n",
       "CONSTRUCTED_SHELTER      1679\n",
       "NATURAL_SHADE            1679\n",
       "NUMBER_OF_BINS           1558\n",
       "NUMBER_OF_TOILETS        1549\n",
       "ACCESSIBLE_TOILETS       1679\n",
       "NUMBER_OF_TABLES         1553\n",
       "ACCESSIBLE_TABLES        1679\n",
       "LATITUDE                 1679\n",
       "LONGITUDE                1679\n",
       "dtype: int64"
      ]
     },
     "execution_count": 13,
     "metadata": {},
     "output_type": "execute_result"
    }
   ],
   "source": [
    "df_reduced.count()"
   ]
  },
  {
   "cell_type": "code",
   "execution_count": null,
   "metadata": {
    "tags": []
   },
   "outputs": [],
   "source": [
    "# Remove any additional rows with missing data\n",
    "df_reduced.dropna(inplace=True)"
   ]
  },
  {
   "cell_type": "code",
   "execution_count": 16,
   "metadata": {
    "tags": []
   },
   "outputs": [
    {
     "data": {
      "text/plain": [
       "COMMON_USAGE_NAME        1450\n",
       "RESPONSIBILITY_AREA      1450\n",
       "LOCAL_GOVERNMENT_NAME    1450\n",
       "REST_AREA_TYPE           1450\n",
       "STAY_24_HOUR             1450\n",
       "OWNERSHIP                1450\n",
       "SURFACE                  1450\n",
       "SURFACE_TYPE             1450\n",
       "CONSTRUCTED_SHELTER      1450\n",
       "NATURAL_SHADE            1450\n",
       "NUMBER_OF_BINS           1450\n",
       "NUMBER_OF_TOILETS        1450\n",
       "ACCESSIBLE_TOILETS       1450\n",
       "NUMBER_OF_TABLES         1450\n",
       "ACCESSIBLE_TABLES        1450\n",
       "LATITUDE                 1450\n",
       "LONGITUDE                1450\n",
       "dtype: int64"
      ]
     },
     "execution_count": 16,
     "metadata": {},
     "output_type": "execute_result"
    }
   ],
   "source": [
    "df_reduced.count()"
   ]
  },
  {
   "cell_type": "code",
   "execution_count": null,
   "metadata": {},
   "outputs": [],
   "source": [
    "# Filter data to road stops in which \"Main Roads\" is the owner and \n",
    "# that are either unsurfaced, do not have accessible toilets or do not have accessible tables\n",
    "# So Main Roads knows which road stops need accessibility improvements"
   ]
  },
  {
   "cell_type": "code",
   "execution_count": null,
   "metadata": {},
   "outputs": [],
   "source": [
    "# Count how many inaccessible road stops are in each local govenment area\n"
   ]
  },
  {
   "cell_type": "code",
   "execution_count": null,
   "metadata": {},
   "outputs": [],
   "source": [
    "# Convert the lg_counts Series into a DataFrame\n"
   ]
  },
  {
   "cell_type": "code",
   "execution_count": null,
   "metadata": {},
   "outputs": [],
   "source": [
    "# Convert the column name into \"Number of Road Stops to Improve Accessibility\"\n"
   ]
  },
  {
   "cell_type": "code",
   "execution_count": null,
   "metadata": {},
   "outputs": [],
   "source": [
    "# We want to calculate the total number of tables? There is a problem\n",
    "# Problem can be seen by examining datatypes within the DataFrame of inaccessible road stops\n"
   ]
  },
  {
   "cell_type": "code",
   "execution_count": null,
   "metadata": {},
   "outputs": [],
   "source": [
    "# Use astype() to convert a column's data into an integer\n"
   ]
  },
  {
   "cell_type": "code",
   "execution_count": null,
   "metadata": {},
   "outputs": [],
   "source": [
    "# Calculate the number of tables currently available at inaccessible Main Roads road stops\n"
   ]
  },
  {
   "cell_type": "code",
   "execution_count": null,
   "metadata": {},
   "outputs": [],
   "source": [
    "# Save the clean DataFrame to a CSV file without the header. \n"
   ]
  },
  {
   "cell_type": "code",
   "execution_count": null,
   "metadata": {},
   "outputs": [],
   "source": []
  }
 ],
 "metadata": {
  "kernelspec": {
   "display_name": "Python 3 (ipykernel)",
   "language": "python",
   "name": "python3"
  },
  "language_info": {
   "codemirror_mode": {
    "name": "ipython",
    "version": 3
   },
   "file_extension": ".py",
   "mimetype": "text/x-python",
   "name": "python",
   "nbconvert_exporter": "python",
   "pygments_lexer": "ipython3",
   "version": "3.11.5"
  }
 },
 "nbformat": 4,
 "nbformat_minor": 4
}
